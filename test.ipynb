{
 "cells": [
  {
   "cell_type": "code",
   "execution_count": 3,
   "metadata": {},
   "outputs": [
    {
     "name": "stdout",
     "output_type": "stream",
     "text": [
      "\n",
      "\n",
      "\u001b[1m> Entering new AgentExecutor chain...\u001b[0m\n",
      "\u001b[32;1m\u001b[1;3mThought: I need to use the HRISAgent tool to get the time off balance for the employee. \n",
      "Action:\n",
      "```\n",
      "{\n",
      "  \"action\": \"HRISAgent\",\n",
      "  \"action_input\": \"What is my time off balance?\"\n",
      "}\n",
      "```\u001b[0m\n",
      "\n",
      "\u001b[1m> Entering new AgentExecutor chain...\u001b[0m\n",
      "\u001b[32;1m\u001b[1;3m\n",
      "Invoking: `get_time_off_balances` with `{'employee_id': '12345'}`\n",
      "\n",
      "\n",
      "\u001b[0m\u001b[36;1m\u001b[1;3m10\u001b[0m\u001b[32;1m\u001b[1;3mYour time off balance is 10 hours.\u001b[0m\n",
      "\n",
      "\u001b[1m> Finished chain.\u001b[0m\n",
      "\n",
      "Observation: \u001b[36;1m\u001b[1;3mYour time off balance is 10 hours.\u001b[0m\n",
      "Thought:\u001b[32;1m\u001b[1;3mI now have the information needed to answer the question.\n",
      "Final Answer: Your time off balance is 10 hours.\u001b[0m\n",
      "\n",
      "\u001b[1m> Finished chain.\u001b[0m\n",
      "Your time off balance is 10 hours.\n"
     ]
    }
   ],
   "source": [
    "import importlib\n",
    "import NativeAgents\n",
    "importlib.reload(NativeAgents)\n",
    "\n",
    "# Load environment variables from .env file\n",
    "import os\n",
    "from dotenv import load_dotenv, dotenv_values, set_key\n",
    "load_dotenv()\n",
    "\n",
    "# Read Config\n",
    "import configparser\n",
    "config = configparser.ConfigParser()\n",
    "config.read('config.ini')\n",
    "\n",
    "from NativeAgents import *\n",
    "\n",
    "top_level_agent = TopLevelAgent(config)\n",
    "print(top_level_agent.run(\"What is my time off balance?\"))\n",
    "#print(top_level_agent.run(\"Summarize my last conversation with Bill’s company\"))\n",
    "# top_level_agent.run(\"How many vacations do I have remaining?\")\n",
    "# top_level_agent.run(\"What is the total HC cost for each of my managers?\")\n",
    "# top_level_agent.run(\"How much revenue does the top 10 customers bring in?\")\n",
    "# top_level_agent.run(\"What fraction of P0 bugs in my organization has been fixed within SLA?\")\n",
    "# top_level_agent.run(\"How many leads have we not met yet?\")\n",
    "# top_level_agent.run(\"Tell me the pending time off requests for my team members in Bangalore.\")\n",
    "# top_level_agent.run(\"For my team in bangalore, tell me the count of tickets assigned to each of them, and how many rounds of interview they each had.\")\n"
   ]
  }
 ],
 "metadata": {
  "kernelspec": {
   "display_name": "Python 3",
   "language": "python",
   "name": "python3"
  },
  "language_info": {
   "codemirror_mode": {
    "name": "ipython",
    "version": 3
   },
   "file_extension": ".py",
   "mimetype": "text/x-python",
   "name": "python",
   "nbconvert_exporter": "python",
   "pygments_lexer": "ipython3",
   "version": "3.10.13"
  }
 },
 "nbformat": 4,
 "nbformat_minor": 2
}
