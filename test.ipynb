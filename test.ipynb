{
 "cells": [
  {
   "cell_type": "code",
   "execution_count": 1,
   "metadata": {},
   "outputs": [
    {
     "name": "stdout",
     "output_type": "stream",
     "text": [
      "\n",
      "\n",
      "\u001b[1m> Entering new AgentExecutor chain...\u001b[0m\n",
      "\u001b[32;1m\u001b[1;3mThought: To get the summary of the last conversation with Bill's company, I need to use the CRM Agent tool. \n",
      "Action:\n",
      "```\n",
      "{\n",
      "  \"action\": \"CRM Agent\",\n",
      "  \"action_input\": \"Get the last conversation with Bill's company\"\n",
      "}\n",
      "```\u001b[0m\n",
      "\n",
      "\u001b[1m> Entering new AgentExecutor chain...\u001b[0m\n",
      "\u001b[32;1m\u001b[1;3m\n",
      "Invoking: `get_contacts` with `{'name': 'Bill'}`\n",
      "\n",
      "\n",
      "\u001b[0m\u001b[36;1m\u001b[1;3m[{\"name\": \"Bill Gates\", \"contact_id\": \"contact_id_1\", \"account_id\": \"account_id_1\"}, {\"name\": \"Bill Clinton\", \"contact_id\": \"contact_id_1\", \"account_id\": \"account_id_2\"}]\u001b[0m\u001b[32;1m\u001b[1;3m\n",
      "Invoking: `get_engagements` with `{'account_id': 'account_id_1'}`\n",
      "\n",
      "\n",
      "\u001b[0m\u001b[33;1m\u001b[1;3m[{\"owner\": \"John Doe\", \"content\": \"This is the content of the engagement\", \"subject\": \"This is the subject of the engagement\", \"direction\": \"INCOMING\", \"engagement_type_id\": \"engagement_type_id_1\", \"start_time\": \"2023-12-16 12:12:12\", \"account_id\": \"account_id_1\", \"contacts\": [\"contact_id_1\", \"contact_id_2\"]}, {\"owner\": \"Christine\", \"content\": \"I hope this email finds you well. I wanted to touch base regarding our upcoming team meeting scheduled for [Date and Time]. As we prepare for the meeting, I wanted to share the agenda and some important updates.\\\\ Agenda for the Meeting:                        1. **Opening Remarks**: Brief introduction and welcome.                        2. **Review of Previous Meeting Minutes**: Recap of key points from our last meeting.                         3. **Project Updates**: A discussion of ongoing projects and milestones achieved.                         4. **Upcoming Deadlines**: A reminder of important deadlines and deliverables.                         5. **Team Collaboration**: An opportunity to discuss any challenges or successes in our teamwork.\\\\ Thank you for your continued dedication and hard work.\", \"subject\": \"Re: Try our product\", \"direction\": \"INCOMING\", \"engagement_type_id\": \"engagement_type_id_2\", \"start_time\": \"2023-12-17 12:12:12\", \"account_id\": \"account_id_1\", \"contacts\": [\"John Doe\", \"Bill\"]}]\u001b[0m\u001b[32;1m\u001b[1;3mThe last conversation with Bill's company was an incoming email from Christine. The subject of the email was \"Re: Try our product\" and the content of the email was: \"I hope this email finds you well. I wanted to touch base regarding our upcoming team meeting scheduled for [Date and Time]. As we prepare for the meeting, I wanted to share the agenda and some important updates. Agenda for the Meeting: 1. Opening Remarks: Brief introduction and welcome. 2. Review of Previous Meeting Minutes: Recap of key points from our last meeting. 3. Project Updates: A discussion of ongoing projects and milestones achieved. 4. Upcoming Deadlines: A reminder of important deadlines and deliverables. 5. Team Collaboration: An opportunity to discuss any challenges or successes in our teamwork. Thank you for your continued dedication and hard work.\" The conversation was initiated on December 17, 2023, at 12:12:12.\u001b[0m\n",
      "\n",
      "\u001b[1m> Finished chain.\u001b[0m\n",
      "\n",
      "Observation: \u001b[38;5;200m\u001b[1;3mThe last conversation with Bill's company was an incoming email from Christine. The subject of the email was \"Re: Try our product\" and the content of the email was: \"I hope this email finds you well. I wanted to touch base regarding our upcoming team meeting scheduled for [Date and Time]. As we prepare for the meeting, I wanted to share the agenda and some important updates. Agenda for the Meeting: 1. Opening Remarks: Brief introduction and welcome. 2. Review of Previous Meeting Minutes: Recap of key points from our last meeting. 3. Project Updates: A discussion of ongoing projects and milestones achieved. 4. Upcoming Deadlines: A reminder of important deadlines and deliverables. 5. Team Collaboration: An opportunity to discuss any challenges or successes in our teamwork. Thank you for your continued dedication and hard work.\" The conversation was initiated on December 17, 2023, at 12:12:12.\u001b[0m\n",
      "Thought:\u001b[32;1m\u001b[1;3mI now have the details of the last conversation with Bill's company.\n",
      "Final Answer: The last conversation with Bill's company was an incoming email from Christine. The subject of the email was \"Re: Try our product\" and the content of the email was: \"I hope this email finds you well. I wanted to touch base regarding our upcoming team meeting scheduled for [Date and Time]. As we prepare for the meeting, I wanted to share the agenda and some important updates. Agenda for the Meeting: 1. Opening Remarks: Brief introduction and welcome. 2. Review of Previous Meeting Minutes: Recap of key points from our last meeting. 3. Project Updates: A discussion of ongoing projects and milestones achieved. 4. Upcoming Deadlines: A reminder of important deadlines and deliverables. 5. Team Collaboration: An opportunity to discuss any challenges or successes in our teamwork. Thank you for your continued dedication and hard work.\" The conversation was initiated on December 17, 2023, at 12:12:12.\u001b[0m\n",
      "\n",
      "\u001b[1m> Finished chain.\u001b[0m\n",
      "Your last conversation with Bill's company was an incoming email from a person named Christine. The email was about an upcoming team meeting. The agenda for the meeting included opening remarks, a review of previous meeting minutes, project updates, upcoming deadlines, and a discussion on team collaboration. The email was sent on December 17, 2023, at 12:12:12.\n"
     ]
    }
   ],
   "source": [
    "# Load environment variables from .env file\n",
    "import os\n",
    "from dotenv import load_dotenv\n",
    "load_dotenv()\n",
    "\n",
    "# Set LLM Cache to optimize costs & speed up inference\n",
    "from langchain.cache import SQLiteCache, RedisSemanticCache\n",
    "from langchain.callbacks import get_openai_callback # TODO: Use this to get costs\n",
    "import langchain\n",
    "langchain.llm_cache = SQLiteCache(database_path=\"./cache/.llm.db\") # TODO: Replace this with RedisSemanticCache\n",
    "\n",
    "# Read Config\n",
    "import configparser\n",
    "config = configparser.ConfigParser()\n",
    "config.read('config.ini')\n",
    "\n",
    "from NativeAgents import *\n",
    "\n",
    "top_level_agent = TopLevelAgent(config)\n",
    "# print(top_level_agent.run(\"What is my time off balance?\"))\n",
    "print(top_level_agent.run(\"Summarize my last conversation with Bill’s company\"))\n",
    "# top_level_agent.run(\"How many vacations do I have remaining?\")\n",
    "# top_level_agent.run(\"What is the total HC cost for each of my managers?\")\n",
    "# top_level_agent.run(\"How much revenue does the top 10 customers bring in?\")\n",
    "# top_level_agent.run(\"What fraction of P0 bugs in my organization has been fixed within SLA?\")\n",
    "# top_level_agent.run(\"How many leads have we not met yet?\")\n",
    "# top_level_agent.run(\"Tell me the pending time off requests for my team members in Bangalore.\")\n",
    "# top_level_agent.run(\"For my team in bangalore, tell me the count of tickets assigned to each of them, and how many rounds of interview they each had.\")\n"
   ]
  }
 ],
 "metadata": {
  "kernelspec": {
   "display_name": "Python 3",
   "language": "python",
   "name": "python3"
  },
  "language_info": {
   "codemirror_mode": {
    "name": "ipython",
    "version": 3
   },
   "file_extension": ".py",
   "mimetype": "text/x-python",
   "name": "python",
   "nbconvert_exporter": "python",
   "pygments_lexer": "ipython3",
   "version": "3.10.13"
  }
 },
 "nbformat": 4,
 "nbformat_minor": 2
}
