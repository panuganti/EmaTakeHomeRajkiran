{
 "cells": [
  {
   "cell_type": "code",
   "execution_count": null,
   "metadata": {},
   "outputs": [],
   "source": [
    "# Load environment variables from .env file\n",
    "import os\n",
    "from dotenv import load_dotenv\n",
    "load_dotenv()\n",
    "\n",
    "# Set LLM Cache to optimize costs & speed up inference\n",
    "from langchain.cache import SQLiteCache, RedisSemanticCache\n",
    "from langchain.callbacks import get_openai_callback # TODO: Use this to get costs\n",
    "import langchain\n",
    "langchain.llm_cache = SQLiteCache(database_path=\"./cache/.llm.db\") # TODO: Replace this with RedisSemanticCache\n",
    "\n",
    "# Read Config\n",
    "import configparser\n",
    "config = configparser.ConfigParser()\n",
    "config.read('config.ini')\n",
    "\n",
    "from NativeAgents import *\n",
    "\n",
    "top_level_agent = TopLevelAgent(config)\n",
    "# print(top_level_agent.run(\"What is my time off balance?\"))\n",
    "print(top_level_agent.run(\"Summarize my last conversation with Bill’s company\"))\n",
    "# top_level_agent.run(\"How many vacations do I have remaining?\")\n",
    "# top_level_agent.run(\"What is the total HC cost for each of my managers?\")\n",
    "# top_level_agent.run(\"How much revenue does the top 10 customers bring in?\")\n",
    "# top_level_agent.run(\"What fraction of P0 bugs in my organization has been fixed within SLA?\")\n",
    "# top_level_agent.run(\"How many leads have we not met yet?\")\n",
    "# top_level_agent.run(\"Tell me the pending time off requests for my team members in Bangalore.\")\n",
    "# top_level_agent.run(\"For my team in bangalore, tell me the count of tickets assigned to each of them, and how many rounds of interview they each had.\")\n"
   ]
  }
 ],
 "metadata": {
  "kernelspec": {
   "display_name": "Python 3",
   "language": "python",
   "name": "python3"
  },
  "language_info": {
   "codemirror_mode": {
    "name": "ipython",
    "version": 3
   },
   "file_extension": ".py",
   "mimetype": "text/x-python",
   "name": "python",
   "nbconvert_exporter": "python",
   "pygments_lexer": "ipython3",
   "version": "3.10.13"
  }
 },
 "nbformat": 4,
 "nbformat_minor": 2
}
